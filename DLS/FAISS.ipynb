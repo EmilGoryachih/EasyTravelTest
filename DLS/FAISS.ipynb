{
 "cells": [
  {
   "metadata": {
    "ExecuteTime": {
     "end_time": "2025-06-26T08:39:29.564212Z",
     "start_time": "2025-06-26T08:39:26.338081Z"
    }
   },
   "cell_type": "code",
   "source": "!pip install numpy faiss-cpu tqdm\n",
   "id": "8a598c2cb271b902",
   "outputs": [
    {
     "name": "stdout",
     "output_type": "stream",
     "text": [
      "Requirement already satisfied: numpy in c:\\users\\emil1\\appdata\\local\\programs\\python\\python313\\lib\\site-packages (2.2.5)\n",
      "Requirement already satisfied: faiss-cpu in c:\\users\\emil1\\appdata\\local\\programs\\python\\python313\\lib\\site-packages (1.11.0)\n",
      "Requirement already satisfied: tqdm in c:\\users\\emil1\\appdata\\local\\programs\\python\\python313\\lib\\site-packages (4.67.1)\n",
      "Requirement already satisfied: packaging in c:\\users\\emil1\\appdata\\local\\programs\\python\\python313\\lib\\site-packages (from faiss-cpu) (24.2)\n",
      "Requirement already satisfied: colorama in c:\\users\\emil1\\appdata\\local\\programs\\python\\python313\\lib\\site-packages (from tqdm) (0.4.6)\n"
     ]
    }
   ],
   "execution_count": 3
  },
  {
   "metadata": {
    "ExecuteTime": {
     "end_time": "2025-06-26T08:39:47.638298Z",
     "start_time": "2025-06-26T08:39:44.224465Z"
    }
   },
   "cell_type": "code",
   "source": [
    "import numpy as np\n",
    "import faiss                         # pip install faiss-cpu\n",
    "from tqdm.auto import tqdm\n",
    "\n",
    "EMBED_FILE = \"./Embeddings/poi_embeddings.npy\"\n",
    "INDEX_FILE = \"Indexes/poi_ivfpq.index\"\n",
    "D       = 768\n",
    "NLIST   = 128\n",
    "M_PQ    = 16\n",
    "BITS    = 8\n",
    "TRAIN_BATCH = 10000\n",
    "ADD_BATCH   = 10000\n",
    "\n",
    "emb = np.load(EMBED_FILE).astype('float32')\n",
    "N, _ = emb.shape\n",
    "print(f\"Loaded {N} embeddings of dim {D}\")\n",
    "\n",
    "faiss.normalize_L2(emb)\n",
    "\n",
    "quantizer = faiss.IndexFlatIP(D)\n",
    "index_ivfpq = faiss.IndexIVFPQ(quantizer, D, NLIST, M_PQ, BITS)\n",
    "index_ivfpq.metric_type = faiss.METRIC_INNER_PRODUCT\n",
    "\n",
    "print(\"Training IVFPQ…\")\n",
    "idx = np.random.choice(N, size=min(TRAIN_BATCH, N), replace=False)\n",
    "index_ivfpq.train(emb[idx])\n",
    "\n",
    "print(\"Adding embeddings…\")\n",
    "for start in tqdm(range(0, N, ADD_BATCH), desc=\"Indexing\"):\n",
    "    end = min(start + ADD_BATCH, N)\n",
    "    index_ivfpq.add(emb[start:end])\n",
    "print(\"Total indexed:\", index_ivfpq.ntotal)\n",
    "\n",
    "faiss.write_index(index_ivfpq, INDEX_FILE)\n",
    "print(\"Saved IVFPQ index to\", INDEX_FILE)\n",
    "\n",
    "def search(query_vector: np.ndarray, k: int = 10):\n",
    "    q = query_vector.astype('float32').reshape(1, D)\n",
    "    faiss.normalize_L2(q)\n",
    "    Dists, Ids = index_ivfpq.search(q, k)\n",
    "    return Ids[0], Dists[0]\n"
   ],
   "id": "77c5d17861baa9ce",
   "outputs": [
    {
     "name": "stdout",
     "output_type": "stream",
     "text": [
      "Loaded 50463 embeddings of dim 768\n",
      "Training IVFPQ…\n",
      "Adding embeddings…\n"
     ]
    },
    {
     "data": {
      "text/plain": [
       "Indexing:   0%|          | 0/6 [00:00<?, ?it/s]"
      ],
      "application/vnd.jupyter.widget-view+json": {
       "version_major": 2,
       "version_minor": 0,
       "model_id": "eaa3e082362e4a4b919368ee536b2c9f"
      }
     },
     "metadata": {},
     "output_type": "display_data"
    },
    {
     "name": "stdout",
     "output_type": "stream",
     "text": [
      "Total indexed: 50463\n",
      "Saved IVFPQ index to ./poi_ivfpq.index\n"
     ]
    }
   ],
   "execution_count": 6
  },
  {
   "metadata": {
    "ExecuteTime": {
     "end_time": "2025-06-26T15:13:50.302912Z",
     "start_time": "2025-06-26T15:13:46.873414Z"
    }
   },
   "cell_type": "code",
   "source": [
    "import os\n",
    "os.environ[\"OMP_NUM_THREADS\"]      = \"4\"\n",
    "os.environ[\"MKL_NUM_THREADS\"]      = \"4\"\n",
    "os.environ[\"OPENBLAS_NUM_THREADS\"] = \"4\"\n",
    "\n",
    "import numpy as np\n",
    "import faiss\n",
    "from functools import lru_cache\n",
    "from sentence_transformers import SentenceTransformer\n",
    "\n",
    "INDEX_FILE   = \"Indexes/poi_ivfpq.index\"\n",
    "EMBED_MODEL  = \"sentence-transformers/LaBSE\"\n",
    "DEVICE       = \"cpu\"\n",
    "NLIST_PROBE  = 10\n",
    "TOP_K        = 10\n",
    "\n",
    "index = faiss.read_index(INDEX_FILE)\n",
    "index.nprobe = NLIST_PROBE\n",
    "\n",
    "embedder = SentenceTransformer(EMBED_MODEL, device=DEVICE)\n",
    "\n",
    "@lru_cache(maxsize=512)\n",
    "def encode_query(query: str) -> np.ndarray:\n",
    "    qv = embedder.encode([query], convert_to_numpy=True)\n",
    "    faiss.normalize_L2(qv)\n",
    "    return qv\n",
    "\n",
    "def search_pois(query: str):\n",
    "    qv = encode_query(query)\n",
    "    D, I = index.search(qv, TOP_K)\n",
    "    return I[0], D[0]\n",
    "\n",
    "if __name__ == \"__main__\":\n",
    "    ids, dists = search_pois(\"I want to read some books \")\n",
    "    print(\"IDs:\", ids)\n",
    "    print(\"Dists:\", dists)\n"
   ],
   "id": "10076b0c048023d7",
   "outputs": [
    {
     "name": "stdout",
     "output_type": "stream",
     "text": [
      "IDs: [32138 19502 18757 11667  6705 10811 36148  9844 35060 11065]\n",
      "Dists: [0.27594292 0.27594292 0.27589625 0.25854674 0.24007857 0.23536855\n",
      " 0.23396839 0.23356201 0.23309447 0.23309447]\n"
     ]
    }
   ],
   "execution_count": 26
  },
  {
   "metadata": {
    "ExecuteTime": {
     "end_time": "2025-06-27T08:08:31.148781Z",
     "start_time": "2025-06-27T08:08:10.661415Z"
    }
   },
   "cell_type": "code",
   "source": [
    "import faiss, numpy as np\n",
    "import pandas as pd\n",
    "from sentence_transformers import SentenceTransformer\n",
    "from functools import lru_cache\n",
    "\n",
    "INDEX_FILE   = \"Indexes/poi_ivfpq.index\"\n",
    "META_FILE    = \"./Dataset/poi_dataset_enriched_incremental.csv\"\n",
    "EMBED_MODEL  = \"sentence-transformers/LaBSE\"\n",
    "DEVICE       = \"cpu\"\n",
    "NLIST_PROBE  = 50\n",
    "TOP_N        = 10\n",
    "EXPAND_K     = 1000\n",
    "\n",
    "index = faiss.read_index(INDEX_FILE)\n",
    "index.nprobe = NLIST_PROBE\n",
    "\n",
    "df = pd.read_csv(META_FILE, dtype=str)\n",
    "df = df.set_index(\"id\")\n",
    "\n",
    "embedder = SentenceTransformer(EMBED_MODEL, device=DEVICE)\n",
    "@lru_cache(maxsize=512)\n",
    "def encode_query(q: str):\n",
    "    v = embedder.encode([q], convert_to_numpy=True)\n",
    "    faiss.normalize_L2(v)\n",
    "    return v\n",
    "\n",
    "def search_in_city(query: str, city: str, top_n=TOP_N, expand_k=EXPAND_K):\n",
    "    qv = encode_query(query)\n",
    "    D, I = index.search(qv, expand_k)\n",
    "    D, I = D[0], I[0]\n",
    "\n",
    "    results = []\n",
    "    for score, emb_idx in zip(D, I):\n",
    "        poi_id = df.index[emb_idx]\n",
    "        row = df.loc[poi_id]\n",
    "        if row[\"city\"] != city:\n",
    "            continue\n",
    "        results.append({\n",
    "            \"id\": poi_id,\n",
    "            \"name\": row[\"name\"],\n",
    "            \"type\": row[\"type\"],\n",
    "            \"score\": float(score),\n",
    "            \"lat\": float(row[\"lat\"]),\n",
    "            \"lon\": float(row[\"lon\"]),\n",
    "            \"description\": row[\"enriched_description\"]\n",
    "        })\n",
    "        if len(results) >= top_n:\n",
    "            break\n",
    "    return results\n",
    "\n",
    "if __name__ == \"__main__\":\n",
    "    hits = search_in_city(\n",
    "        query=\"Want to watch film\",\n",
    "        city=\"Москва\"\n",
    "    )\n",
    "    for poi in hits:\n",
    "        print(f\"{poi['name']} ({poi['type']}), score={poi['score']:.3f}\")\n",
    "        print(\"  \", poi[\"description\"])\n",
    "        print()\n"
   ],
   "id": "e50c21567e2d1af5",
   "outputs": [
    {
     "name": "stdout",
     "output_type": "stream",
     "text": [
      "К. А. Тимирязеву (node), score=0.364\n",
      "   In the heart of Moscow's historic center stands a poignant reminder of the city's rich past – the memorial to K.A. Timiryazev, a renowned agronomist and botanist who played a crucial role in Russia's agricultural development. This historical site is a tranquil oasis, nestled between bustling streets and towering skyscrapers, offering visitors a moment to reflect on the contributions of this pioneering scientist.\n",
      "\n",
      "As you approach the memorial, you'll notice the well-maintained garden surrounding it, with carefully tended flowers and trees that seem to whisper stories of the past. The memorial itself is a simple yet elegant structure, featuring a statue of Timiryazev in his scholarly attire, surrounded by plaques detailing his life and achievements. It's a place where history meets nature, creating an atmosphere\n",
      "\n",
      "Столичный продукт (node), score=0.361\n",
      "   In the heart of the bustling city, hidden among towering skyscrapers and neon lights, lies a cozy corner of convenience - a local supermarket that's become a staple for residents and visitors alike. This isn't just any store; it's a place where you can find everything from fresh produce to gourmet snacks, all within easy reach. The aisles are always well-stocked, with a steady stream of customers coming in and out, each with their own shopping list. It's a place where you can grab a quick sandwich for lunch or pick up some essentials before heading back to your office or hotel room. For those who prefer to avoid the crowds, the store often opens early in the morning, making it perfect for a leisurely start to the day. Don't forget to check out the fresh\n",
      "\n",
      "защитникам неба (node), score=0.346\n",
      "   In the heart of the city stands a solemn monument that whispers tales of the past to those who listen closely. Known as \"Defenders of the Sky,\" this historical site is a poignant reminder of the brave souls who fought for the skies above us. The memorial is a somber yet beautiful place, with its weathered stones and intricate carvings that tell stories of valor and sacrifice. For history buffs or anyone interested in aviation history, it's a must-visit. Don't miss the guided tours that offer insights into the lives of the pilots and mechanics who manned these early aircraft. As you explore, keep an eye out for the small café nearby where you can grab a cup of coffee and a light snack before continuing your journey through time.\n",
      "\n",
      "Alex Fitness (node), score=0.343\n",
      "   Alex Fitness is a vibrant hub for those looking to stay fit and active in the heart of Moscow. This fitness center offers a wide array of equipment and classes, from cardio machines and free weights to yoga mats and spinning bikes. Open seven days a week from 7 AM until late night (7 PM on Sundays), it caters to all levels of fitness enthusiasts. Whether you're a morning person or prefer to hit the gym after work, Alex Fitness has got you covered. For those who want to keep up with their workout routine even on weekends, they offer extended hours on Saturdays and Sundays, running from 10 AM until 10 PM. To get in touch, call +7 495 6041144 or visit their website at https://msk\n",
      "\n",
      "307-я студия (node), score=0.343\n",
      "   Nestled in the heart of the city, 307-я Студия is more than just a theatre; it's an intimate cultural haven that whispers tales of old and new stories alike. This cozy venue, with its rustic wooden beams and dimly lit stage, feels like stepping back in time while still offering state-of-the-art facilities for contemporary performances. Whether you're there to watch a classic play or catch a cutting-edge production, the atmosphere is always electric. For those looking to immerse themselves in the experience, consider arriving early to secure a prime spot in the audience. Don't forget to check their website for upcoming shows and special events, as they often offer unique experiences that aren't available elsewhere. It’s a place where the magic of live theater truly comes alive\n",
      "\n",
      "Экономотель (node), score=0.342\n",
      "   Nestled in the heart of the bustling city, just a stone's throw from the vibrant market square, stands an inviting little gem known as the EcoMotel. This charming hostel is more than just a place to sleep; it's a cozy haven for travelers seeking comfort and warmth without breaking the bank. The walls are adorned with maps of the world and framed photos of past guests, each one telling a story of adventure. The common area buzzes with the lively chatter of fellow travelers, all united by their shared love of exploration.\n",
      "\n",
      "As you step inside, the warm glow of the lanterns hanging from the ceiling creates a welcoming atmosphere. Each room is tastefully decorated, offering a mix of modern amenities and rustic charm. The communal kitchen is a hub of activity, where you can prepare your\n",
      "\n",
      "Кино Хауз (node), score=0.337\n",
      "   Step into the cozy world of \"Кино Хауз\" (Cinema Haus), a charming cinema nestled in the heart of the city that promises an immersive cinematic experience. This gem is more than just a place to watch movies; it's a sanctuary for film enthusiasts and casual viewers alike. The interior is a blend of vintage charm and modern comfort, with plush seats arranged in a semi-circular pattern, creating an intimate atmosphere perfect for a night out or a date. \n",
      "\n",
      "As you step inside, the soft lighting and warm ambiance envelop you, making you feel like you've stepped back in time. The walls are adorned with posters of classic films, adding to the nostalgic vibe. For those who prefer a quieter space, the cinema also offers private screening rooms, ideal for small groups or families.\n",
      "\n",
      "Зотов.Кино (node), score=0.337\n",
      "   In the heart of the city, tucked away in a charming old building that seems to have been carved from the very stone of time itself, lies Zотов Cinema – a cinematic gem that transports you back to a simpler era of film appreciation. The exterior is a testament to the grandeur of yesteryears, with its ornate facade and arched windows that whisper tales of bygone days. Step inside, and you're greeted by an atmosphere that feels both nostalgic and inviting. The interior is cozy yet sophisticated, with plush velvet seats arranged in rows that seem to stretch towards the ceiling, creating a sense of intimacy and community.\n",
      "\n",
      "For those who love a good movie night, Zотов Cinema offers a variety of classic films screened on large, high-definition screens. The sound system is impeccable, ensuring\n",
      "\n",
      "Библиотека №139 (node), score=0.336\n",
      "   Nestled in the heart of the city, just a stone's throw away from the bustling market square, stands the charming Library No. 139. This architectural gem is a sanctuary for book lovers, offering a tranquil escape from the hustle and bustle of everyday life. The library's doors open to a cozy reading room filled with rows of wooden bookshelves that seem to whisper secrets of countless stories. The air inside is always filled with the comforting scent of old books and the faint hum of pages turning.\n",
      "\n",
      "For those who wish to explore more, the library also boasts an impressive collection of rare and classic literature, making it a must-visit for bibliophiles. To make your visit even more enjoyable, consider calling ahead to inquire about their special events or workshops, which often feature\n",
      "\n",
      "Лошади (node), score=0.334\n",
      "   Venture into the heart of a vibrant equestrian community where the air is thick with the scent of fresh hay and the rhythmic clatter of hooves echoes through the cobblestone streets. This charming town is a haven for horse enthusiasts, offering a picturesque setting that seamlessly blends rustic charm with modern amenities. For those looking to immerse themselves in the world of horses, consider signing up for a guided trail ride through the lush green pastures or perhaps a hands-on lesson at one of the local stables. Don't forget to visit the nearby art gallery, where you can find an array of unique artworks inspired by the beauty of the horse. As you explore, keep your camera handy to capture the serene landscapes and the majestic creatures grazing in the distance.\n",
      "\n"
     ]
    }
   ],
   "execution_count": 1
  }
 ],
 "metadata": {
  "kernelspec": {
   "display_name": "Python 3",
   "language": "python",
   "name": "python3"
  },
  "language_info": {
   "codemirror_mode": {
    "name": "ipython",
    "version": 2
   },
   "file_extension": ".py",
   "mimetype": "text/x-python",
   "name": "python",
   "nbconvert_exporter": "python",
   "pygments_lexer": "ipython2",
   "version": "2.7.6"
  }
 },
 "nbformat": 4,
 "nbformat_minor": 5
}
